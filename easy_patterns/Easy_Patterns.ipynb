{
 "cells": [
  {
   "cell_type": "markdown",
   "metadata": {},
   "source": [
    "# Patterns 1"
   ]
  },
  {
   "cell_type": "code",
   "execution_count": 1,
   "metadata": {},
   "outputs": [
    {
     "name": "stdout",
     "output_type": "stream",
     "text": [
      "5\n",
      "55555\n",
      "55555\n",
      "55555\n",
      "55555\n",
      "55555\n"
     ]
    }
   ],
   "source": [
    "n = int(input())\n",
    "i=1\n",
    "while n>=i:\n",
    "    j=1\n",
    "    while j <= n:\n",
    "        print(n, end='')\n",
    "        j=j+1\n",
    "    print() \n",
    "    i+=1"
   ]
  },
  {
   "cell_type": "code",
   "execution_count": null,
   "metadata": {},
   "outputs": [],
   "source": []
  },
  {
   "cell_type": "code",
   "execution_count": 2,
   "metadata": {},
   "outputs": [
    {
     "name": "stdout",
     "output_type": "stream",
     "text": [
      "4\n",
      "*\n",
      "**\n",
      "***\n",
      "****\n"
     ]
    }
   ],
   "source": [
    "n = int(input())\n",
    "i=1\n",
    "while n>=i:\n",
    "    j=1\n",
    "    while j <= i:\n",
    "\n",
    "        print(\"*\", end='')\n",
    "        j=j+1\n",
    "    print() \n",
    "    i+=1\n",
    "    "
   ]
  },
  {
   "cell_type": "code",
   "execution_count": null,
   "metadata": {},
   "outputs": [],
   "source": []
  },
  {
   "cell_type": "code",
   "execution_count": 3,
   "metadata": {},
   "outputs": [
    {
     "name": "stdout",
     "output_type": "stream",
     "text": [
      "5\n",
      "1\n",
      "22\n",
      "333\n",
      "4444\n",
      "55555\n"
     ]
    }
   ],
   "source": [
    "n = int(input())\n",
    "i=1\n",
    "while n>=i:\n",
    "    j=1\n",
    "    while j <= i:\n",
    "\n",
    "        print(i, end='')\n",
    "        j=j+1\n",
    "    print() \n",
    "    i+=1\n",
    "    "
   ]
  },
  {
   "cell_type": "code",
   "execution_count": null,
   "metadata": {},
   "outputs": [],
   "source": []
  },
  {
   "cell_type": "code",
   "execution_count": 4,
   "metadata": {},
   "outputs": [
    {
     "name": "stdout",
     "output_type": "stream",
     "text": [
      "5\n",
      "1\n",
      "21\n",
      "321\n",
      "4321\n",
      "54321\n"
     ]
    }
   ],
   "source": [
    "n = int(input())\n",
    "i=1\n",
    "while n>=i:\n",
    "    j=1\n",
    "    while j <= i:\n",
    "\n",
    "        print(i-j+1, end='')\n",
    "        j=j+1\n",
    "    print() \n",
    "    i+=1\n",
    "    "
   ]
  },
  {
   "cell_type": "code",
   "execution_count": null,
   "metadata": {},
   "outputs": [],
   "source": []
  },
  {
   "cell_type": "code",
   "execution_count": 5,
   "metadata": {},
   "outputs": [
    {
     "name": "stdout",
     "output_type": "stream",
     "text": [
      "6\n",
      "A\n",
      "BC\n",
      "CDE\n",
      "DEFG\n",
      "EFGHI\n",
      "FGHIJK\n"
     ]
    }
   ],
   "source": [
    "n = int(input())\n",
    "i=1\n",
    "\n",
    "while n>=i:\n",
    "    p = chr(ord('A')+i-1)\n",
    "    j=1\n",
    "    while j <= i:\n",
    "        char = chr(ord(p)+j-1)\n",
    "        print(char, end='')\n",
    "        j=j+1\n",
    "        \n",
    "    print() \n",
    "    i+=1\n",
    "    "
   ]
  },
  {
   "cell_type": "code",
   "execution_count": null,
   "metadata": {},
   "outputs": [],
   "source": []
  },
  {
   "cell_type": "code",
   "execution_count": 6,
   "metadata": {},
   "outputs": [
    {
     "name": "stdout",
     "output_type": "stream",
     "text": [
      "7\n",
      "G\n",
      "FG\n",
      "EFG\n",
      "DEFG\n",
      "CDEFG\n",
      "BCDEFG\n",
      "ABCDEFG\n"
     ]
    }
   ],
   "source": [
    "n = int(input())\n",
    "i=1\n",
    "\n",
    "while n>=i:\n",
    "    p = chr(ord('A')+n-i)\n",
    "    j=1\n",
    "    \n",
    "    while j <= i:\n",
    "        char = chr(ord(p)+j-1)\n",
    "        print(char, end='')\n",
    "        j=j+1\n",
    "\n",
    "        \n",
    "    print() \n",
    "    i+=1\n",
    "  "
   ]
  },
  {
   "cell_type": "code",
   "execution_count": null,
   "metadata": {},
   "outputs": [],
   "source": []
  },
  {
   "cell_type": "code",
   "execution_count": 7,
   "metadata": {},
   "outputs": [
    {
     "name": "stdout",
     "output_type": "stream",
     "text": [
      "5\n",
      "1\n",
      "11\n",
      "202\n",
      "3003\n",
      "40004\n"
     ]
    }
   ],
   "source": [
    "n=int(input())\n",
    "i=1\n",
    "print ('1')\n",
    "while n-1>=i:\n",
    "    j=1\n",
    "    while i+1>=j:\n",
    "        if j==1:\n",
    "            print (i,end='')\n",
    "\n",
    "        elif j==i+1:\n",
    "            print(i,end='')\n",
    "\n",
    "        elif j>1:\n",
    "            print('0',end='')\n",
    "\n",
    "\n",
    "        j=j+1    \n",
    "    \n",
    "\n",
    "    print()\n",
    "    i+=1\n"
   ]
  },
  {
   "cell_type": "code",
   "execution_count": null,
   "metadata": {},
   "outputs": [],
   "source": []
  },
  {
   "cell_type": "code",
   "execution_count": 8,
   "metadata": {},
   "outputs": [
    {
     "name": "stdout",
     "output_type": "stream",
     "text": [
      "5\n",
      "1\n",
      "11\n",
      "121\n",
      "1221\n",
      "12221\n"
     ]
    }
   ],
   "source": [
    "n=int(input())\n",
    "i=1\n",
    "print ('1')\n",
    "while n-1>=i:\n",
    "    j=1\n",
    "    while i+1>=j:\n",
    "        if j==1:\n",
    "            print (1,end='')\n",
    "\n",
    "        elif j==i+1:\n",
    "            print(1,end='')\n",
    "\n",
    "        elif j>1:\n",
    "            print('2',end='')\n",
    "\n",
    "\n",
    "        j=j+1    \n",
    "\n",
    "    print()\n",
    "    i+=1\n"
   ]
  },
  {
   "cell_type": "code",
   "execution_count": null,
   "metadata": {},
   "outputs": [],
   "source": []
  },
  {
   "cell_type": "code",
   "execution_count": 9,
   "metadata": {},
   "outputs": [
    {
     "name": "stdout",
     "output_type": "stream",
     "text": [
      "5\n",
      "12345\n",
      "1234\n",
      "123\n",
      "12\n",
      "1\n"
     ]
    }
   ],
   "source": [
    "n = int(input())\n",
    "i=1\n",
    "while n>=i:\n",
    "    j=1\n",
    "    \n",
    "    while j <= n-i+1:\n",
    "        \n",
    "        print(j, end='')\n",
    "        j=j+1\n",
    "        \n",
    "    print() \n",
    "    i+=1    \n"
   ]
  },
  {
   "cell_type": "code",
   "execution_count": null,
   "metadata": {},
   "outputs": [],
   "source": []
  },
  {
   "cell_type": "code",
   "execution_count": 10,
   "metadata": {},
   "outputs": [
    {
     "name": "stdout",
     "output_type": "stream",
     "text": [
      "7\n",
      "A\n",
      "BB\n",
      "CCC\n",
      "DDDD\n",
      "EEEEE\n",
      "FFFFFF\n",
      "GGGGGGG\n"
     ]
    }
   ],
   "source": [
    "n = int(input())\n",
    "i=1\n",
    "\n",
    "while n>=i:\n",
    "    j=1\n",
    "    while j <= i:\n",
    "        char = chr(ord('A')+i-1)\n",
    "        print(char, end='')\n",
    "        j=j+1\n",
    "        \n",
    "    print() \n",
    "    i+=1\n",
    "   "
   ]
  },
  {
   "cell_type": "code",
   "execution_count": null,
   "metadata": {},
   "outputs": [],
   "source": []
  }
 ],
 "metadata": {
  "kernelspec": {
   "display_name": "Python 3",
   "language": "python",
   "name": "python3"
  },
  "language_info": {
   "codemirror_mode": {
    "name": "ipython",
    "version": 3
   },
   "file_extension": ".py",
   "mimetype": "text/x-python",
   "name": "python",
   "nbconvert_exporter": "python",
   "pygments_lexer": "ipython3",
   "version": "3.8.3"
  }
 },
 "nbformat": 4,
 "nbformat_minor": 4
}
